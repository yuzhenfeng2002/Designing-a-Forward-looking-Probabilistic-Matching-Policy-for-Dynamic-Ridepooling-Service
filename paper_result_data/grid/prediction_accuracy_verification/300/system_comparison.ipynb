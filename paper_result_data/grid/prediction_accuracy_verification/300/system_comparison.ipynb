{
 "cells": [
  {
   "cell_type": "code",
   "execution_count": 1,
   "id": "d132f9ad",
   "metadata": {},
   "outputs": [],
   "source": [
    "import pandas as pd\n",
    "import numpy as np\n",
    "import matplotlib.pyplot as plt"
   ]
  },
  {
   "cell_type": "code",
   "execution_count": 2,
   "id": "71201852",
   "metadata": {},
   "outputs": [],
   "source": [
    "pred_df = pd.read_csv(\"prediction_result/grid_30_layers_3_policy_0.csv\", index_col=\"OD_id\")"
   ]
  },
  {
   "cell_type": "code",
   "execution_count": 3,
   "id": "7860638f",
   "metadata": {},
   "outputs": [
    {
     "data": {
      "text/html": [
       "<div>\n",
       "<style scoped>\n",
       "    .dataframe tbody tr th:only-of-type {\n",
       "        vertical-align: middle;\n",
       "    }\n",
       "\n",
       "    .dataframe tbody tr th {\n",
       "        vertical-align: top;\n",
       "    }\n",
       "\n",
       "    .dataframe thead th {\n",
       "        text-align: right;\n",
       "    }\n",
       "</style>\n",
       "<table border=\"1\" class=\"dataframe\">\n",
       "  <thead>\n",
       "    <tr style=\"text-align: right;\">\n",
       "      <th></th>\n",
       "      <th>start_vertex</th>\n",
       "      <th>end_vertex</th>\n",
       "      <th>distance</th>\n",
       "      <th>lam_w</th>\n",
       "      <th>P_w</th>\n",
       "      <th>l_w</th>\n",
       "      <th>e_w</th>\n",
       "    </tr>\n",
       "    <tr>\n",
       "      <th>OD_id</th>\n",
       "      <th></th>\n",
       "      <th></th>\n",
       "      <th></th>\n",
       "      <th></th>\n",
       "      <th></th>\n",
       "      <th></th>\n",
       "      <th></th>\n",
       "    </tr>\n",
       "  </thead>\n",
       "  <tbody>\n",
       "    <tr>\n",
       "      <th>0</th>\n",
       "      <td>407</td>\n",
       "      <td>605</td>\n",
       "      <td>9500</td>\n",
       "      <td>0.024269</td>\n",
       "      <td>0.483179</td>\n",
       "      <td>9624.529221</td>\n",
       "      <td>2554.974657</td>\n",
       "    </tr>\n",
       "    <tr>\n",
       "      <th>1</th>\n",
       "      <td>768</td>\n",
       "      <td>713</td>\n",
       "      <td>3500</td>\n",
       "      <td>0.005294</td>\n",
       "      <td>0.329745</td>\n",
       "      <td>3551.477023</td>\n",
       "      <td>798.547550</td>\n",
       "    </tr>\n",
       "    <tr>\n",
       "      <th>2</th>\n",
       "      <td>808</td>\n",
       "      <td>92</td>\n",
       "      <td>24500</td>\n",
       "      <td>0.021593</td>\n",
       "      <td>0.627599</td>\n",
       "      <td>24770.640556</td>\n",
       "      <td>8016.965097</td>\n",
       "    </tr>\n",
       "    <tr>\n",
       "      <th>3</th>\n",
       "      <td>364</td>\n",
       "      <td>694</td>\n",
       "      <td>5500</td>\n",
       "      <td>0.017611</td>\n",
       "      <td>0.481836</td>\n",
       "      <td>5747.754232</td>\n",
       "      <td>1873.850685</td>\n",
       "    </tr>\n",
       "    <tr>\n",
       "      <th>4</th>\n",
       "      <td>220</td>\n",
       "      <td>562</td>\n",
       "      <td>11500</td>\n",
       "      <td>0.023442</td>\n",
       "      <td>0.539180</td>\n",
       "      <td>11724.215554</td>\n",
       "      <td>3865.681200</td>\n",
       "    </tr>\n",
       "    <tr>\n",
       "      <th>...</th>\n",
       "      <td>...</td>\n",
       "      <td>...</td>\n",
       "      <td>...</td>\n",
       "      <td>...</td>\n",
       "      <td>...</td>\n",
       "      <td>...</td>\n",
       "      <td>...</td>\n",
       "    </tr>\n",
       "    <tr>\n",
       "      <th>295</th>\n",
       "      <td>338</td>\n",
       "      <td>524</td>\n",
       "      <td>6000</td>\n",
       "      <td>0.021124</td>\n",
       "      <td>0.548190</td>\n",
       "      <td>6190.080979</td>\n",
       "      <td>2495.649739</td>\n",
       "    </tr>\n",
       "    <tr>\n",
       "      <th>296</th>\n",
       "      <td>494</td>\n",
       "      <td>840</td>\n",
       "      <td>13000</td>\n",
       "      <td>0.020942</td>\n",
       "      <td>0.538859</td>\n",
       "      <td>13085.324685</td>\n",
       "      <td>3516.301249</td>\n",
       "    </tr>\n",
       "    <tr>\n",
       "      <th>297</th>\n",
       "      <td>500</td>\n",
       "      <td>788</td>\n",
       "      <td>11000</td>\n",
       "      <td>0.007322</td>\n",
       "      <td>0.489094</td>\n",
       "      <td>11173.399186</td>\n",
       "      <td>2170.834289</td>\n",
       "    </tr>\n",
       "    <tr>\n",
       "      <th>298</th>\n",
       "      <td>416</td>\n",
       "      <td>439</td>\n",
       "      <td>4000</td>\n",
       "      <td>0.005987</td>\n",
       "      <td>0.438937</td>\n",
       "      <td>4162.466408</td>\n",
       "      <td>1487.915729</td>\n",
       "    </tr>\n",
       "    <tr>\n",
       "      <th>299</th>\n",
       "      <td>808</td>\n",
       "      <td>54</td>\n",
       "      <td>14500</td>\n",
       "      <td>0.005113</td>\n",
       "      <td>0.544661</td>\n",
       "      <td>14745.256068</td>\n",
       "      <td>3763.879893</td>\n",
       "    </tr>\n",
       "  </tbody>\n",
       "</table>\n",
       "<p>300 rows × 7 columns</p>\n",
       "</div>"
      ],
      "text/plain": [
       "       start_vertex  end_vertex  distance     lam_w       P_w           l_w  \\\n",
       "OD_id                                                                         \n",
       "0               407         605      9500  0.024269  0.483179   9624.529221   \n",
       "1               768         713      3500  0.005294  0.329745   3551.477023   \n",
       "2               808          92     24500  0.021593  0.627599  24770.640556   \n",
       "3               364         694      5500  0.017611  0.481836   5747.754232   \n",
       "4               220         562     11500  0.023442  0.539180  11724.215554   \n",
       "...             ...         ...       ...       ...       ...           ...   \n",
       "295             338         524      6000  0.021124  0.548190   6190.080979   \n",
       "296             494         840     13000  0.020942  0.538859  13085.324685   \n",
       "297             500         788     11000  0.007322  0.489094  11173.399186   \n",
       "298             416         439      4000  0.005987  0.438937   4162.466408   \n",
       "299             808          54     14500  0.005113  0.544661  14745.256068   \n",
       "\n",
       "               e_w  \n",
       "OD_id               \n",
       "0      2554.974657  \n",
       "1       798.547550  \n",
       "2      8016.965097  \n",
       "3      1873.850685  \n",
       "4      3865.681200  \n",
       "...            ...  \n",
       "295    2495.649739  \n",
       "296    3516.301249  \n",
       "297    2170.834289  \n",
       "298    1487.915729  \n",
       "299    3763.879893  \n",
       "\n",
       "[300 rows x 7 columns]"
      ]
     },
     "execution_count": 3,
     "metadata": {},
     "output_type": "execute_result"
    }
   ],
   "source": [
    "pred_df"
   ]
  },
  {
   "cell_type": "code",
   "execution_count": 4,
   "id": "74424e80",
   "metadata": {},
   "outputs": [],
   "source": [
    "pred_ride_dist = np.sum(pred_df['lam_w'] * (pred_df[\"l_w\"] - pred_df['e_w'] / 2))"
   ]
  },
  {
   "cell_type": "code",
   "execution_count": 5,
   "id": "babe46d8",
   "metadata": {},
   "outputs": [],
   "source": [
    "simu_df = pd.read_csv(\"simulation_result/grid_30_layers_3_policy_0.csv\")"
   ]
  },
  {
   "cell_type": "code",
   "execution_count": 6,
   "id": "493f00c5",
   "metadata": {},
   "outputs": [
    {
     "data": {
      "text/html": [
       "<div>\n",
       "<style scoped>\n",
       "    .dataframe tbody tr th:only-of-type {\n",
       "        vertical-align: middle;\n",
       "    }\n",
       "\n",
       "    .dataframe tbody tr th {\n",
       "        vertical-align: top;\n",
       "    }\n",
       "\n",
       "    .dataframe thead th {\n",
       "        text-align: right;\n",
       "    }\n",
       "</style>\n",
       "<table border=\"1\" class=\"dataframe\">\n",
       "  <thead>\n",
       "    <tr style=\"text-align: right;\">\n",
       "      <th></th>\n",
       "      <th>start_vertex</th>\n",
       "      <th>end_vertex</th>\n",
       "      <th>original_distance</th>\n",
       "      <th>num</th>\n",
       "      <th>matching_num</th>\n",
       "      <th>matching_probability</th>\n",
       "      <th>shared_distance</th>\n",
       "      <th>final_distance</th>\n",
       "    </tr>\n",
       "  </thead>\n",
       "  <tbody>\n",
       "    <tr>\n",
       "      <th>0</th>\n",
       "      <td>407</td>\n",
       "      <td>605</td>\n",
       "      <td>9500</td>\n",
       "      <td>709</td>\n",
       "      <td>345</td>\n",
       "      <td>0.49</td>\n",
       "      <td>2484.49</td>\n",
       "      <td>9629.76</td>\n",
       "    </tr>\n",
       "    <tr>\n",
       "      <th>1</th>\n",
       "      <td>768</td>\n",
       "      <td>713</td>\n",
       "      <td>3500</td>\n",
       "      <td>178</td>\n",
       "      <td>74</td>\n",
       "      <td>0.42</td>\n",
       "      <td>1067.42</td>\n",
       "      <td>3573.03</td>\n",
       "    </tr>\n",
       "    <tr>\n",
       "      <th>2</th>\n",
       "      <td>808</td>\n",
       "      <td>92</td>\n",
       "      <td>24500</td>\n",
       "      <td>659</td>\n",
       "      <td>421</td>\n",
       "      <td>0.64</td>\n",
       "      <td>7896.05</td>\n",
       "      <td>24751.90</td>\n",
       "    </tr>\n",
       "    <tr>\n",
       "      <th>3</th>\n",
       "      <td>364</td>\n",
       "      <td>694</td>\n",
       "      <td>5500</td>\n",
       "      <td>531</td>\n",
       "      <td>280</td>\n",
       "      <td>0.53</td>\n",
       "      <td>2129.00</td>\n",
       "      <td>5765.54</td>\n",
       "    </tr>\n",
       "    <tr>\n",
       "      <th>4</th>\n",
       "      <td>220</td>\n",
       "      <td>562</td>\n",
       "      <td>11500</td>\n",
       "      <td>711</td>\n",
       "      <td>385</td>\n",
       "      <td>0.54</td>\n",
       "      <td>3916.32</td>\n",
       "      <td>11715.19</td>\n",
       "    </tr>\n",
       "    <tr>\n",
       "      <th>...</th>\n",
       "      <td>...</td>\n",
       "      <td>...</td>\n",
       "      <td>...</td>\n",
       "      <td>...</td>\n",
       "      <td>...</td>\n",
       "      <td>...</td>\n",
       "      <td>...</td>\n",
       "      <td>...</td>\n",
       "    </tr>\n",
       "    <tr>\n",
       "      <th>295</th>\n",
       "      <td>338</td>\n",
       "      <td>524</td>\n",
       "      <td>6000</td>\n",
       "      <td>640</td>\n",
       "      <td>368</td>\n",
       "      <td>0.57</td>\n",
       "      <td>2635.94</td>\n",
       "      <td>6220.31</td>\n",
       "    </tr>\n",
       "    <tr>\n",
       "      <th>296</th>\n",
       "      <td>494</td>\n",
       "      <td>840</td>\n",
       "      <td>13000</td>\n",
       "      <td>623</td>\n",
       "      <td>339</td>\n",
       "      <td>0.54</td>\n",
       "      <td>3363.56</td>\n",
       "      <td>13093.10</td>\n",
       "    </tr>\n",
       "    <tr>\n",
       "      <th>297</th>\n",
       "      <td>500</td>\n",
       "      <td>788</td>\n",
       "      <td>11000</td>\n",
       "      <td>216</td>\n",
       "      <td>100</td>\n",
       "      <td>0.46</td>\n",
       "      <td>2025.46</td>\n",
       "      <td>11171.30</td>\n",
       "    </tr>\n",
       "    <tr>\n",
       "      <th>298</th>\n",
       "      <td>416</td>\n",
       "      <td>439</td>\n",
       "      <td>4000</td>\n",
       "      <td>175</td>\n",
       "      <td>83</td>\n",
       "      <td>0.47</td>\n",
       "      <td>1577.14</td>\n",
       "      <td>4205.71</td>\n",
       "    </tr>\n",
       "    <tr>\n",
       "      <th>299</th>\n",
       "      <td>808</td>\n",
       "      <td>54</td>\n",
       "      <td>14500</td>\n",
       "      <td>161</td>\n",
       "      <td>93</td>\n",
       "      <td>0.58</td>\n",
       "      <td>3906.83</td>\n",
       "      <td>14791.93</td>\n",
       "    </tr>\n",
       "  </tbody>\n",
       "</table>\n",
       "<p>300 rows × 8 columns</p>\n",
       "</div>"
      ],
      "text/plain": [
       "     start_vertex  end_vertex  original_distance  num  matching_num  \\\n",
       "0             407         605               9500  709           345   \n",
       "1             768         713               3500  178            74   \n",
       "2             808          92              24500  659           421   \n",
       "3             364         694               5500  531           280   \n",
       "4             220         562              11500  711           385   \n",
       "..            ...         ...                ...  ...           ...   \n",
       "295           338         524               6000  640           368   \n",
       "296           494         840              13000  623           339   \n",
       "297           500         788              11000  216           100   \n",
       "298           416         439               4000  175            83   \n",
       "299           808          54              14500  161            93   \n",
       "\n",
       "     matching_probability  shared_distance  final_distance  \n",
       "0                    0.49          2484.49         9629.76  \n",
       "1                    0.42          1067.42         3573.03  \n",
       "2                    0.64          7896.05        24751.90  \n",
       "3                    0.53          2129.00         5765.54  \n",
       "4                    0.54          3916.32        11715.19  \n",
       "..                    ...              ...             ...  \n",
       "295                  0.57          2635.94         6220.31  \n",
       "296                  0.54          3363.56        13093.10  \n",
       "297                  0.46          2025.46        11171.30  \n",
       "298                  0.47          1577.14         4205.71  \n",
       "299                  0.58          3906.83        14791.93  \n",
       "\n",
       "[300 rows x 8 columns]"
      ]
     },
     "execution_count": 6,
     "metadata": {},
     "output_type": "execute_result"
    }
   ],
   "source": [
    "simu_df"
   ]
  },
  {
   "cell_type": "code",
   "execution_count": 7,
   "id": "1abe4555",
   "metadata": {},
   "outputs": [],
   "source": [
    "simu_ride_dist = np.sum((simu_df['final_distance'] - simu_df['shared_distance'] / 2) * simu_df['num']) / 30000"
   ]
  },
  {
   "cell_type": "code",
   "execution_count": 8,
   "id": "06dd4f8a",
   "metadata": {},
   "outputs": [
    {
     "data": {
      "text/plain": [
       "(40348.09820673321, 40490.174544833346)"
      ]
     },
     "execution_count": 8,
     "metadata": {},
     "output_type": "execute_result"
    }
   ],
   "source": [
    "pred_ride_dist, simu_ride_dist"
   ]
  },
  {
   "cell_type": "code",
   "execution_count": 9,
   "id": "2da650da",
   "metadata": {},
   "outputs": [
    {
     "data": {
      "image/png": "[encoded data removed]",
      "text/plain": [
       "<Figure size 432x288 with 1 Axes>"
      ]
     },
     "metadata": {
      "needs_background": "light"
     },
     "output_type": "display_data"
    }
   ],
   "source": [
    "value = []\n",
    "for i in range(125):\n",
    "    pred_df = pd.read_csv(\"prediction_result/grid_30_layers_3_policy_{:.0f}.csv\".format(i), index_col=\"OD_id\")\n",
    "    pred_ride_dist = np.sum(pred_df['lam_w'])\n",
    "    simu_df = pd.read_csv(\"simulation_result/grid_30_layers_3_policy_{:.0f}.csv\".format(i))\n",
    "    simu_ride_dist = np.sum(simu_df['num']) / 30000\n",
    "    value.append([pred_ride_dist, simu_ride_dist])\n",
    "plt.plot(np.array(value))\n",
    "plt.show()"
   ]
  },
  {
   "cell_type": "code",
   "execution_count": 10,
   "id": "44d59982",
   "metadata": {},
   "outputs": [
    {
     "data": {
      "image/png": "[encoded data removed]",
      "text/plain": [
       "<Figure size 432x288 with 1 Axes>"
      ]
     },
     "metadata": {
      "needs_background": "light"
     },
     "output_type": "display_data"
    }
   ],
   "source": [
    "value = []\n",
    "for i in range(125):\n",
    "    pred_df = pd.read_csv(\"prediction_result/grid_30_layers_3_policy_{:.0f}.csv\".format(i), index_col=\"OD_id\")\n",
    "    pred_ride_dist = np.sum(pred_df['lam_w'] * (pred_df[\"l_w\"] - pred_df['e_w'] / 2))\n",
    "    simu_df = pd.read_csv(\"simulation_result/grid_30_layers_3_policy_{:.0f}.csv\".format(i))\n",
    "    simu_ride_dist = np.sum((simu_df['final_distance'] - simu_df['shared_distance'] / 2) * simu_df['num']) / 30000\n",
    "    value.append([pred_ride_dist, simu_ride_dist])\n",
    "plt.plot(np.array(value))\n",
    "plt.show()"
   ]
  },
  {
   "cell_type": "code",
   "execution_count": 11,
   "id": "b45c44b3",
   "metadata": {},
   "outputs": [
    {
     "data": {
      "image/png": "[encoded data removed]",
      "text/plain": [
       "<Figure size 432x288 with 1 Axes>"
      ]
     },
     "metadata": {
      "needs_background": "light"
     },
     "output_type": "display_data"
    }
   ],
   "source": [
    "plt.plot(value)\n",
    "plt.show()"
   ]
  },
  {
   "cell_type": "code",
   "execution_count": 12,
   "id": "f9dce675",
   "metadata": {},
   "outputs": [
    {
     "data": {
      "text/plain": [
       "220.7358996344169"
      ]
     },
     "execution_count": 12,
     "metadata": {},
     "output_type": "execute_result"
    }
   ],
   "source": [
    "value = np.array(value)\n",
    "np.sqrt(np.sum((value[:,0]-value[:,1])**2) / 125)"
   ]
  },
  {
   "cell_type": "code",
   "execution_count": 13,
   "id": "01da1aa2",
   "metadata": {},
   "outputs": [
    {
     "data": {
      "text/html": [
       "<div>\n",
       "<style scoped>\n",
       "    .dataframe tbody tr th:only-of-type {\n",
       "        vertical-align: middle;\n",
       "    }\n",
       "\n",
       "    .dataframe tbody tr th {\n",
       "        vertical-align: top;\n",
       "    }\n",
       "\n",
       "    .dataframe thead th {\n",
       "        text-align: right;\n",
       "    }\n",
       "</style>\n",
       "<table border=\"1\" class=\"dataframe\">\n",
       "  <thead>\n",
       "    <tr style=\"text-align: right;\">\n",
       "      <th></th>\n",
       "      <th>0</th>\n",
       "    </tr>\n",
       "  </thead>\n",
       "  <tbody>\n",
       "    <tr>\n",
       "      <th>count</th>\n",
       "      <td>125.000000</td>\n",
       "    </tr>\n",
       "    <tr>\n",
       "      <th>mean</th>\n",
       "      <td>176.383311</td>\n",
       "    </tr>\n",
       "    <tr>\n",
       "      <th>std</th>\n",
       "      <td>133.249043</td>\n",
       "    </tr>\n",
       "    <tr>\n",
       "      <th>min</th>\n",
       "      <td>0.188263</td>\n",
       "    </tr>\n",
       "    <tr>\n",
       "      <th>25%</th>\n",
       "      <td>75.594260</td>\n",
       "    </tr>\n",
       "    <tr>\n",
       "      <th>50%</th>\n",
       "      <td>137.600372</td>\n",
       "    </tr>\n",
       "    <tr>\n",
       "      <th>75%</th>\n",
       "      <td>271.259501</td>\n",
       "    </tr>\n",
       "    <tr>\n",
       "      <th>max</th>\n",
       "      <td>619.669152</td>\n",
       "    </tr>\n",
       "  </tbody>\n",
       "</table>\n",
       "</div>"
      ],
      "text/plain": [
       "                0\n",
       "count  125.000000\n",
       "mean   176.383311\n",
       "std    133.249043\n",
       "min      0.188263\n",
       "25%     75.594260\n",
       "50%    137.600372\n",
       "75%    271.259501\n",
       "max    619.669152"
      ]
     },
     "execution_count": 13,
     "metadata": {},
     "output_type": "execute_result"
    }
   ],
   "source": [
    "pd.DataFrame(np.abs(value[:,0]-value[:,1])).describe()"
   ]
  },
  {
   "cell_type": "code",
   "execution_count": 14,
   "id": "c11b2532",
   "metadata": {},
   "outputs": [
    {
     "data": {
      "text/plain": [
       "0.4242124689562066"
      ]
     },
     "execution_count": 14,
     "metadata": {},
     "output_type": "execute_result"
    }
   ],
   "source": [
    "100 * (np.sum(np.abs(value[:,0]-value[:,1]) / value[:,1]) / 125)"
   ]
  },
  {
   "cell_type": "code",
   "execution_count": 15,
   "id": "a4bdd48e",
   "metadata": {},
   "outputs": [
    {
     "data": {
      "text/html": [
       "<div>\n",
       "<style scoped>\n",
       "    .dataframe tbody tr th:only-of-type {\n",
       "        vertical-align: middle;\n",
       "    }\n",
       "\n",
       "    .dataframe tbody tr th {\n",
       "        vertical-align: top;\n",
       "    }\n",
       "\n",
       "    .dataframe thead th {\n",
       "        text-align: right;\n",
       "    }\n",
       "</style>\n",
       "<table border=\"1\" class=\"dataframe\">\n",
       "  <thead>\n",
       "    <tr style=\"text-align: right;\">\n",
       "      <th></th>\n",
       "      <th>0</th>\n",
       "    </tr>\n",
       "  </thead>\n",
       "  <tbody>\n",
       "    <tr>\n",
       "      <th>count</th>\n",
       "      <td>125.000000</td>\n",
       "    </tr>\n",
       "    <tr>\n",
       "      <th>mean</th>\n",
       "      <td>0.424212</td>\n",
       "    </tr>\n",
       "    <tr>\n",
       "      <th>std</th>\n",
       "      <td>0.314862</td>\n",
       "    </tr>\n",
       "    <tr>\n",
       "      <th>min</th>\n",
       "      <td>0.000463</td>\n",
       "    </tr>\n",
       "    <tr>\n",
       "      <th>25%</th>\n",
       "      <td>0.183027</td>\n",
       "    </tr>\n",
       "    <tr>\n",
       "      <th>50%</th>\n",
       "      <td>0.332482</td>\n",
       "    </tr>\n",
       "    <tr>\n",
       "      <th>75%</th>\n",
       "      <td>0.665812</td>\n",
       "    </tr>\n",
       "    <tr>\n",
       "      <th>max</th>\n",
       "      <td>1.440446</td>\n",
       "    </tr>\n",
       "  </tbody>\n",
       "</table>\n",
       "</div>"
      ],
      "text/plain": [
       "                0\n",
       "count  125.000000\n",
       "mean     0.424212\n",
       "std      0.314862\n",
       "min      0.000463\n",
       "25%      0.183027\n",
       "50%      0.332482\n",
       "75%      0.665812\n",
       "max      1.440446"
      ]
     },
     "execution_count": 15,
     "metadata": {},
     "output_type": "execute_result"
    }
   ],
   "source": [
    "pd.DataFrame(np.abs(value[:,0]-value[:,1]) / value[:,1] * 100).describe()"
   ]
  },
  {
   "cell_type": "code",
   "execution_count": null,
   "id": "e2ea81ef",
   "metadata": {},
   "outputs": [],
   "source": []
  }
 ],
 "metadata": {
  "kernelspec": {
   "display_name": "Python 3 (ipykernel)",
   "language": "python",
   "name": "python3"
  },
  "language_info": {
   "codemirror_mode": {
    "name": "ipython",
    "version": 3
   },
   "file_extension": ".py",
   "mimetype": "text/x-python",
   "name": "python",
   "nbconvert_exporter": "python",
   "pygments_lexer": "ipython3",
   "version": "3.9.12"
  }
 },
 "nbformat": 4,
 "nbformat_minor": 5
}
