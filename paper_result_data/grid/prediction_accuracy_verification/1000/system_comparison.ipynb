{
 "cells": [
  {
   "cell_type": "code",
   "execution_count": 1,
   "id": "d132f9ad",
   "metadata": {},
   "outputs": [],
   "source": [
    "import pandas as pd\n",
    "import numpy as np\n",
    "import matplotlib.pyplot as plt"
   ]
  },
  {
   "cell_type": "code",
   "execution_count": 2,
   "id": "71201852",
   "metadata": {},
   "outputs": [],
   "source": [
    "pred_df = pd.read_csv(\"prediction_result/grid_30_layers_3_policy_0.csv\", index_col=\"OD_id\")"
   ]
  },
  {
   "cell_type": "code",
   "execution_count": 3,
   "id": "7860638f",
   "metadata": {},
   "outputs": [
    {
     "data": {
      "text/html": [
       "<div>\n",
       "<style scoped>\n",
       "    .dataframe tbody tr th:only-of-type {\n",
       "        vertical-align: middle;\n",
       "    }\n",
       "\n",
       "    .dataframe tbody tr th {\n",
       "        vertical-align: top;\n",
       "    }\n",
       "\n",
       "    .dataframe thead th {\n",
       "        text-align: right;\n",
       "    }\n",
       "</style>\n",
       "<table border=\"1\" class=\"dataframe\">\n",
       "  <thead>\n",
       "    <tr style=\"text-align: right;\">\n",
       "      <th></th>\n",
       "      <th>start_vertex</th>\n",
       "      <th>end_vertex</th>\n",
       "      <th>distance</th>\n",
       "      <th>lam_w</th>\n",
       "      <th>P_w</th>\n",
       "      <th>l_w</th>\n",
       "      <th>e_w</th>\n",
       "    </tr>\n",
       "    <tr>\n",
       "      <th>OD_id</th>\n",
       "      <th></th>\n",
       "      <th></th>\n",
       "      <th></th>\n",
       "      <th></th>\n",
       "      <th></th>\n",
       "      <th></th>\n",
       "      <th></th>\n",
       "    </tr>\n",
       "  </thead>\n",
       "  <tbody>\n",
       "    <tr>\n",
       "      <th>0</th>\n",
       "      <td>521</td>\n",
       "      <td>791</td>\n",
       "      <td>4500</td>\n",
       "      <td>0.011072</td>\n",
       "      <td>0.636520</td>\n",
       "      <td>4758.890839</td>\n",
       "      <td>1916.044607</td>\n",
       "    </tr>\n",
       "    <tr>\n",
       "      <th>1</th>\n",
       "      <td>676</td>\n",
       "      <td>379</td>\n",
       "      <td>6500</td>\n",
       "      <td>0.018230</td>\n",
       "      <td>0.798438</td>\n",
       "      <td>6731.485411</td>\n",
       "      <td>3608.024575</td>\n",
       "    </tr>\n",
       "    <tr>\n",
       "      <th>2</th>\n",
       "      <td>889</td>\n",
       "      <td>385</td>\n",
       "      <td>11500</td>\n",
       "      <td>0.011753</td>\n",
       "      <td>0.868223</td>\n",
       "      <td>11809.062029</td>\n",
       "      <td>5567.234712</td>\n",
       "    </tr>\n",
       "    <tr>\n",
       "      <th>3</th>\n",
       "      <td>255</td>\n",
       "      <td>722</td>\n",
       "      <td>14500</td>\n",
       "      <td>0.012086</td>\n",
       "      <td>0.869774</td>\n",
       "      <td>14770.004276</td>\n",
       "      <td>6160.339755</td>\n",
       "    </tr>\n",
       "    <tr>\n",
       "      <th>4</th>\n",
       "      <td>403</td>\n",
       "      <td>481</td>\n",
       "      <td>7500</td>\n",
       "      <td>0.012837</td>\n",
       "      <td>0.689249</td>\n",
       "      <td>7747.061176</td>\n",
       "      <td>2781.998393</td>\n",
       "    </tr>\n",
       "    <tr>\n",
       "      <th>...</th>\n",
       "      <td>...</td>\n",
       "      <td>...</td>\n",
       "      <td>...</td>\n",
       "      <td>...</td>\n",
       "      <td>...</td>\n",
       "      <td>...</td>\n",
       "      <td>...</td>\n",
       "    </tr>\n",
       "    <tr>\n",
       "      <th>995</th>\n",
       "      <td>125</td>\n",
       "      <td>557</td>\n",
       "      <td>13000</td>\n",
       "      <td>0.018451</td>\n",
       "      <td>0.939380</td>\n",
       "      <td>13338.856721</td>\n",
       "      <td>7288.057973</td>\n",
       "    </tr>\n",
       "    <tr>\n",
       "      <th>996</th>\n",
       "      <td>135</td>\n",
       "      <td>820</td>\n",
       "      <td>14000</td>\n",
       "      <td>0.013445</td>\n",
       "      <td>0.671289</td>\n",
       "      <td>14182.671239</td>\n",
       "      <td>5280.444052</td>\n",
       "    </tr>\n",
       "    <tr>\n",
       "      <th>997</th>\n",
       "      <td>800</td>\n",
       "      <td>89</td>\n",
       "      <td>16500</td>\n",
       "      <td>0.020503</td>\n",
       "      <td>0.823911</td>\n",
       "      <td>16728.483066</td>\n",
       "      <td>4545.153841</td>\n",
       "    </tr>\n",
       "    <tr>\n",
       "      <th>998</th>\n",
       "      <td>42</td>\n",
       "      <td>523</td>\n",
       "      <td>8500</td>\n",
       "      <td>0.017613</td>\n",
       "      <td>0.869514</td>\n",
       "      <td>8809.604361</td>\n",
       "      <td>5107.005560</td>\n",
       "    </tr>\n",
       "    <tr>\n",
       "      <th>999</th>\n",
       "      <td>308</td>\n",
       "      <td>235</td>\n",
       "      <td>10000</td>\n",
       "      <td>0.023562</td>\n",
       "      <td>0.738746</td>\n",
       "      <td>10178.636186</td>\n",
       "      <td>3933.540774</td>\n",
       "    </tr>\n",
       "  </tbody>\n",
       "</table>\n",
       "<p>1000 rows × 7 columns</p>\n",
       "</div>"
      ],
      "text/plain": [
       "       start_vertex  end_vertex  distance     lam_w       P_w           l_w  \\\n",
       "OD_id                                                                         \n",
       "0               521         791      4500  0.011072  0.636520   4758.890839   \n",
       "1               676         379      6500  0.018230  0.798438   6731.485411   \n",
       "2               889         385     11500  0.011753  0.868223  11809.062029   \n",
       "3               255         722     14500  0.012086  0.869774  14770.004276   \n",
       "4               403         481      7500  0.012837  0.689249   7747.061176   \n",
       "...             ...         ...       ...       ...       ...           ...   \n",
       "995             125         557     13000  0.018451  0.939380  13338.856721   \n",
       "996             135         820     14000  0.013445  0.671289  14182.671239   \n",
       "997             800          89     16500  0.020503  0.823911  16728.483066   \n",
       "998              42         523      8500  0.017613  0.869514   8809.604361   \n",
       "999             308         235     10000  0.023562  0.738746  10178.636186   \n",
       "\n",
       "               e_w  \n",
       "OD_id               \n",
       "0      1916.044607  \n",
       "1      3608.024575  \n",
       "2      5567.234712  \n",
       "3      6160.339755  \n",
       "4      2781.998393  \n",
       "...            ...  \n",
       "995    7288.057973  \n",
       "996    5280.444052  \n",
       "997    4545.153841  \n",
       "998    5107.005560  \n",
       "999    3933.540774  \n",
       "\n",
       "[1000 rows x 7 columns]"
      ]
     },
     "execution_count": 3,
     "metadata": {},
     "output_type": "execute_result"
    }
   ],
   "source": [
    "pred_df"
   ]
  },
  {
   "cell_type": "code",
   "execution_count": 4,
   "id": "74424e80",
   "metadata": {},
   "outputs": [],
   "source": [
    "pred_ride_dist = np.sum(pred_df['lam_w'] * (pred_df[\"l_w\"] - pred_df['e_w'] / 2))"
   ]
  },
  {
   "cell_type": "code",
   "execution_count": 5,
   "id": "babe46d8",
   "metadata": {},
   "outputs": [],
   "source": [
    "simu_df = pd.read_csv(\"simulation_result/grid_30_layers_3_policy_0.csv\")"
   ]
  },
  {
   "cell_type": "code",
   "execution_count": 6,
   "id": "493f00c5",
   "metadata": {},
   "outputs": [
    {
     "data": {
      "text/html": [
       "<div>\n",
       "<style scoped>\n",
       "    .dataframe tbody tr th:only-of-type {\n",
       "        vertical-align: middle;\n",
       "    }\n",
       "\n",
       "    .dataframe tbody tr th {\n",
       "        vertical-align: top;\n",
       "    }\n",
       "\n",
       "    .dataframe thead th {\n",
       "        text-align: right;\n",
       "    }\n",
       "</style>\n",
       "<table border=\"1\" class=\"dataframe\">\n",
       "  <thead>\n",
       "    <tr style=\"text-align: right;\">\n",
       "      <th></th>\n",
       "      <th>start_vertex</th>\n",
       "      <th>end_vertex</th>\n",
       "      <th>original_distance</th>\n",
       "      <th>num</th>\n",
       "      <th>matching_num</th>\n",
       "      <th>matching_probability</th>\n",
       "      <th>shared_distance</th>\n",
       "      <th>final_distance</th>\n",
       "    </tr>\n",
       "  </thead>\n",
       "  <tbody>\n",
       "    <tr>\n",
       "      <th>0</th>\n",
       "      <td>521</td>\n",
       "      <td>791</td>\n",
       "      <td>4500</td>\n",
       "      <td>348</td>\n",
       "      <td>230</td>\n",
       "      <td>0.66</td>\n",
       "      <td>1977.01</td>\n",
       "      <td>4770.11</td>\n",
       "    </tr>\n",
       "    <tr>\n",
       "      <th>1</th>\n",
       "      <td>676</td>\n",
       "      <td>379</td>\n",
       "      <td>6500</td>\n",
       "      <td>568</td>\n",
       "      <td>464</td>\n",
       "      <td>0.82</td>\n",
       "      <td>3893.49</td>\n",
       "      <td>6720.07</td>\n",
       "    </tr>\n",
       "    <tr>\n",
       "      <th>2</th>\n",
       "      <td>889</td>\n",
       "      <td>385</td>\n",
       "      <td>11500</td>\n",
       "      <td>369</td>\n",
       "      <td>319</td>\n",
       "      <td>0.86</td>\n",
       "      <td>5705.96</td>\n",
       "      <td>11798.10</td>\n",
       "    </tr>\n",
       "    <tr>\n",
       "      <th>3</th>\n",
       "      <td>255</td>\n",
       "      <td>722</td>\n",
       "      <td>14500</td>\n",
       "      <td>374</td>\n",
       "      <td>339</td>\n",
       "      <td>0.91</td>\n",
       "      <td>6382.35</td>\n",
       "      <td>14775.40</td>\n",
       "    </tr>\n",
       "    <tr>\n",
       "      <th>4</th>\n",
       "      <td>403</td>\n",
       "      <td>481</td>\n",
       "      <td>7500</td>\n",
       "      <td>365</td>\n",
       "      <td>240</td>\n",
       "      <td>0.66</td>\n",
       "      <td>2810.96</td>\n",
       "      <td>7724.66</td>\n",
       "    </tr>\n",
       "    <tr>\n",
       "      <th>...</th>\n",
       "      <td>...</td>\n",
       "      <td>...</td>\n",
       "      <td>...</td>\n",
       "      <td>...</td>\n",
       "      <td>...</td>\n",
       "      <td>...</td>\n",
       "      <td>...</td>\n",
       "      <td>...</td>\n",
       "    </tr>\n",
       "    <tr>\n",
       "      <th>995</th>\n",
       "      <td>125</td>\n",
       "      <td>557</td>\n",
       "      <td>13000</td>\n",
       "      <td>581</td>\n",
       "      <td>547</td>\n",
       "      <td>0.94</td>\n",
       "      <td>7292.60</td>\n",
       "      <td>13316.70</td>\n",
       "    </tr>\n",
       "    <tr>\n",
       "      <th>996</th>\n",
       "      <td>135</td>\n",
       "      <td>820</td>\n",
       "      <td>14000</td>\n",
       "      <td>380</td>\n",
       "      <td>263</td>\n",
       "      <td>0.69</td>\n",
       "      <td>5355.26</td>\n",
       "      <td>14221.05</td>\n",
       "    </tr>\n",
       "    <tr>\n",
       "      <th>997</th>\n",
       "      <td>800</td>\n",
       "      <td>89</td>\n",
       "      <td>16500</td>\n",
       "      <td>586</td>\n",
       "      <td>490</td>\n",
       "      <td>0.84</td>\n",
       "      <td>4892.49</td>\n",
       "      <td>16733.79</td>\n",
       "    </tr>\n",
       "    <tr>\n",
       "      <th>998</th>\n",
       "      <td>42</td>\n",
       "      <td>523</td>\n",
       "      <td>8500</td>\n",
       "      <td>470</td>\n",
       "      <td>401</td>\n",
       "      <td>0.85</td>\n",
       "      <td>5009.57</td>\n",
       "      <td>8814.89</td>\n",
       "    </tr>\n",
       "    <tr>\n",
       "      <th>999</th>\n",
       "      <td>308</td>\n",
       "      <td>235</td>\n",
       "      <td>10000</td>\n",
       "      <td>711</td>\n",
       "      <td>538</td>\n",
       "      <td>0.76</td>\n",
       "      <td>4257.38</td>\n",
       "      <td>10192.69</td>\n",
       "    </tr>\n",
       "  </tbody>\n",
       "</table>\n",
       "<p>1000 rows × 8 columns</p>\n",
       "</div>"
      ],
      "text/plain": [
       "     start_vertex  end_vertex  original_distance  num  matching_num  \\\n",
       "0             521         791               4500  348           230   \n",
       "1             676         379               6500  568           464   \n",
       "2             889         385              11500  369           319   \n",
       "3             255         722              14500  374           339   \n",
       "4             403         481               7500  365           240   \n",
       "..            ...         ...                ...  ...           ...   \n",
       "995           125         557              13000  581           547   \n",
       "996           135         820              14000  380           263   \n",
       "997           800          89              16500  586           490   \n",
       "998            42         523               8500  470           401   \n",
       "999           308         235              10000  711           538   \n",
       "\n",
       "     matching_probability  shared_distance  final_distance  \n",
       "0                    0.66          1977.01         4770.11  \n",
       "1                    0.82          3893.49         6720.07  \n",
       "2                    0.86          5705.96        11798.10  \n",
       "3                    0.91          6382.35        14775.40  \n",
       "4                    0.66          2810.96         7724.66  \n",
       "..                    ...              ...             ...  \n",
       "995                  0.94          7292.60        13316.70  \n",
       "996                  0.69          5355.26        14221.05  \n",
       "997                  0.84          4892.49        16733.79  \n",
       "998                  0.85          5009.57         8814.89  \n",
       "999                  0.76          4257.38        10192.69  \n",
       "\n",
       "[1000 rows x 8 columns]"
      ]
     },
     "execution_count": 6,
     "metadata": {},
     "output_type": "execute_result"
    }
   ],
   "source": [
    "simu_df"
   ]
  },
  {
   "cell_type": "code",
   "execution_count": 7,
   "id": "1abe4555",
   "metadata": {},
   "outputs": [],
   "source": [
    "simu_ride_dist = np.sum((simu_df['final_distance'] - simu_df['shared_distance'] / 2) * simu_df['num']) / 30000"
   ]
  },
  {
   "cell_type": "code",
   "execution_count": 8,
   "id": "06dd4f8a",
   "metadata": {},
   "outputs": [
    {
     "data": {
      "text/plain": [
       "(130474.40790062746, 130224.91722733334)"
      ]
     },
     "execution_count": 8,
     "metadata": {},
     "output_type": "execute_result"
    }
   ],
   "source": [
    "pred_ride_dist, simu_ride_dist"
   ]
  },
  {
   "cell_type": "code",
   "execution_count": 22,
   "id": "3afd8743",
   "metadata": {},
   "outputs": [
    {
     "data": {
      "image/png": "[encoded data removed]",
      "text/plain": [
       "<Figure size 432x288 with 1 Axes>"
      ]
     },
     "metadata": {
      "needs_background": "light"
     },
     "output_type": "display_data"
    }
   ],
   "source": [
    "value = []\n",
    "for i in range(125):\n",
    "    pred_df = pd.read_csv(\"prediction_result/grid_30_layers_3_policy_{:.0f}.csv\".format(i), index_col=\"OD_id\")\n",
    "    pred_ride_dist = np.sum(pred_df['lam_w'])\n",
    "    simu_df = pd.read_csv(\"simulation_result/grid_30_layers_3_policy_{:.0f}.csv\".format(i))\n",
    "    simu_ride_dist = np.sum(simu_df['num']) / 30000\n",
    "    value.append([pred_ride_dist, simu_ride_dist])\n",
    "plt.plot(np.array(value))\n",
    "plt.show()"
   ]
  },
  {
   "cell_type": "code",
   "execution_count": 18,
   "id": "44d59982",
   "metadata": {},
   "outputs": [
    {
     "data": {
      "image/png": "[encoded data removed]",
      "text/plain": [
       "<Figure size 432x288 with 1 Axes>"
      ]
     },
     "metadata": {
      "needs_background": "light"
     },
     "output_type": "display_data"
    }
   ],
   "source": [
    "value = []\n",
    "for i in range(125):\n",
    "    pred_df = pd.read_csv(\"prediction_result/grid_30_layers_3_policy_{:.0f}.csv\".format(i), index_col=\"OD_id\")\n",
    "    pred_ride_dist = np.sum(pred_df['lam_w'] * (pred_df[\"l_w\"] - pred_df['e_w'] / 2))\n",
    "    simu_df = pd.read_csv(\"simulation_result/grid_30_layers_3_policy_{:.0f}.csv\".format(i))\n",
    "    simu_ride_dist = np.sum((simu_df['final_distance'] - simu_df['shared_distance'] / 2) * simu_df['num']) / 30000\n",
    "    value.append([pred_ride_dist, simu_ride_dist])\n",
    "plt.plot(np.array(value))\n",
    "plt.show()"
   ]
  },
  {
   "cell_type": "code",
   "execution_count": 16,
   "id": "b45c44b3",
   "metadata": {},
   "outputs": [
    {
     "data": {
      "image/png": "[encoded data removed]",
      "text/plain": [
       "<Figure size 432x288 with 1 Axes>"
      ]
     },
     "metadata": {
      "needs_background": "light"
     },
     "output_type": "display_data"
    }
   ],
   "source": [
    "plt.plot(value)\n",
    "plt.show()"
   ]
  },
  {
   "cell_type": "code",
   "execution_count": 11,
   "id": "f9dce675",
   "metadata": {},
   "outputs": [
    {
     "data": {
      "text/plain": [
       "43934.79265883646"
      ]
     },
     "execution_count": 11,
     "metadata": {},
     "output_type": "execute_result"
    }
   ],
   "source": [
    "value = np.array(value)\n",
    "np.sqrt(np.sum((value[:,0]-value[:,1])**2) / 125)"
   ]
  },
  {
   "cell_type": "code",
   "execution_count": 12,
   "id": "01da1aa2",
   "metadata": {},
   "outputs": [
    {
     "data": {
      "text/html": [
       "<div>\n",
       "<style scoped>\n",
       "    .dataframe tbody tr th:only-of-type {\n",
       "        vertical-align: middle;\n",
       "    }\n",
       "\n",
       "    .dataframe tbody tr th {\n",
       "        vertical-align: top;\n",
       "    }\n",
       "\n",
       "    .dataframe thead th {\n",
       "        text-align: right;\n",
       "    }\n",
       "</style>\n",
       "<table border=\"1\" class=\"dataframe\">\n",
       "  <thead>\n",
       "    <tr style=\"text-align: right;\">\n",
       "      <th></th>\n",
       "      <th>0</th>\n",
       "    </tr>\n",
       "  </thead>\n",
       "  <tbody>\n",
       "    <tr>\n",
       "      <th>count</th>\n",
       "      <td>125.000000</td>\n",
       "    </tr>\n",
       "    <tr>\n",
       "      <th>mean</th>\n",
       "      <td>43931.869068</td>\n",
       "    </tr>\n",
       "    <tr>\n",
       "      <th>std</th>\n",
       "      <td>508.879018</td>\n",
       "    </tr>\n",
       "    <tr>\n",
       "      <th>min</th>\n",
       "      <td>43216.117387</td>\n",
       "    </tr>\n",
       "    <tr>\n",
       "      <th>25%</th>\n",
       "      <td>43566.916726</td>\n",
       "    </tr>\n",
       "    <tr>\n",
       "      <th>50%</th>\n",
       "      <td>43756.935200</td>\n",
       "    </tr>\n",
       "    <tr>\n",
       "      <th>75%</th>\n",
       "      <td>44110.457616</td>\n",
       "    </tr>\n",
       "    <tr>\n",
       "      <th>max</th>\n",
       "      <td>45132.342978</td>\n",
       "    </tr>\n",
       "  </tbody>\n",
       "</table>\n",
       "</div>"
      ],
      "text/plain": [
       "                  0\n",
       "count    125.000000\n",
       "mean   43931.869068\n",
       "std      508.879018\n",
       "min    43216.117387\n",
       "25%    43566.916726\n",
       "50%    43756.935200\n",
       "75%    44110.457616\n",
       "max    45132.342978"
      ]
     },
     "execution_count": 12,
     "metadata": {},
     "output_type": "execute_result"
    }
   ],
   "source": [
    "pd.DataFrame(np.abs(value[:,0]-value[:,1])).describe()"
   ]
  },
  {
   "cell_type": "code",
   "execution_count": 13,
   "id": "c11b2532",
   "metadata": {},
   "outputs": [
    {
     "data": {
      "text/plain": [
       "49.03634890332858"
      ]
     },
     "execution_count": 13,
     "metadata": {},
     "output_type": "execute_result"
    }
   ],
   "source": [
    "100 * (np.sum(np.abs(value[:,0]-value[:,1]) / value[:,1]) / 125)"
   ]
  },
  {
   "cell_type": "code",
   "execution_count": 14,
   "id": "a4bdd48e",
   "metadata": {},
   "outputs": [
    {
     "data": {
      "text/html": [
       "<div>\n",
       "<style scoped>\n",
       "    .dataframe tbody tr th:only-of-type {\n",
       "        vertical-align: middle;\n",
       "    }\n",
       "\n",
       "    .dataframe tbody tr th {\n",
       "        vertical-align: top;\n",
       "    }\n",
       "\n",
       "    .dataframe thead th {\n",
       "        text-align: right;\n",
       "    }\n",
       "</style>\n",
       "<table border=\"1\" class=\"dataframe\">\n",
       "  <thead>\n",
       "    <tr style=\"text-align: right;\">\n",
       "      <th></th>\n",
       "      <th>0</th>\n",
       "    </tr>\n",
       "  </thead>\n",
       "  <tbody>\n",
       "    <tr>\n",
       "      <th>count</th>\n",
       "      <td>125.000000</td>\n",
       "    </tr>\n",
       "    <tr>\n",
       "      <th>mean</th>\n",
       "      <td>49.036349</td>\n",
       "    </tr>\n",
       "    <tr>\n",
       "      <th>std</th>\n",
       "      <td>1.714050</td>\n",
       "    </tr>\n",
       "    <tr>\n",
       "      <th>min</th>\n",
       "      <td>45.229266</td>\n",
       "    </tr>\n",
       "    <tr>\n",
       "      <th>25%</th>\n",
       "      <td>49.271365</td>\n",
       "    </tr>\n",
       "    <tr>\n",
       "      <th>50%</th>\n",
       "      <td>49.702043</td>\n",
       "    </tr>\n",
       "    <tr>\n",
       "      <th>75%</th>\n",
       "      <td>50.084338</td>\n",
       "    </tr>\n",
       "    <tr>\n",
       "      <th>max</th>\n",
       "      <td>50.779702</td>\n",
       "    </tr>\n",
       "  </tbody>\n",
       "</table>\n",
       "</div>"
      ],
      "text/plain": [
       "                0\n",
       "count  125.000000\n",
       "mean    49.036349\n",
       "std      1.714050\n",
       "min     45.229266\n",
       "25%     49.271365\n",
       "50%     49.702043\n",
       "75%     50.084338\n",
       "max     50.779702"
      ]
     },
     "execution_count": 14,
     "metadata": {},
     "output_type": "execute_result"
    }
   ],
   "source": [
    "pd.DataFrame(np.abs(value[:,0]-value[:,1]) / value[:,1] * 100).describe()"
   ]
  },
  {
   "cell_type": "code",
   "execution_count": null,
   "id": "e2ea81ef",
   "metadata": {},
   "outputs": [],
   "source": []
  }
 ],
 "metadata": {
  "kernelspec": {
   "display_name": "Python 3 (ipykernel)",
   "language": "python",
   "name": "python3"
  },
  "language_info": {
   "codemirror_mode": {
    "name": "ipython",
    "version": 3
   },
   "file_extension": ".py",
   "mimetype": "text/x-python",
   "name": "python",
   "nbconvert_exporter": "python",
   "pygments_lexer": "ipython3",
   "version": "3.9.12"
  }
 },
 "nbformat": 4,
 "nbformat_minor": 5
}
